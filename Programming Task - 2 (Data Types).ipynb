{
 "cells": [
  {
   "cell_type": "markdown",
   "id": "d7bbefed",
   "metadata": {},
   "source": [
    "List Comprehensions"
   ]
  },
  {
   "cell_type": "code",
   "execution_count": null,
   "id": "05dcf90d",
   "metadata": {},
   "outputs": [],
   "source": [
    "if __name__ == '__main__':\n",
    "    x = int(input())\n",
    "    y = int(input())\n",
    "    z = int(input())\n",
    "    n = int(input())\n",
    "    \n",
    "    print(list([i,j,k] for i in range(x+1) for j in range(y+1) for k in range(z+1)  if i+j+k !=n))\n"
   ]
  },
  {
   "cell_type": "markdown",
   "id": "01049460",
   "metadata": {},
   "source": [
    "Find the Runner-Up Score!"
   ]
  },
  {
   "cell_type": "code",
   "execution_count": null,
   "id": "c2f655d7",
   "metadata": {},
   "outputs": [],
   "source": [
    "if __name__ == '__main__':\n",
    "    n = int(input())\n",
    "    arr = list(map(int, input().split()))\n",
    "\n",
    "    not_dup_arr =[]\n",
    "    \n",
    "    for ele in arr:\n",
    "        if ele not in not_dup_arr:\n",
    "            not_dup_arr.append(ele)\n",
    "\n",
    "    max_ele = not_dup_arr[0]\n",
    "    for ele in not_dup_arr:\n",
    "        if ele > max_ele:\n",
    "            max_ele= ele\n",
    "    not_dup_arr.remove(max_ele)\n",
    "    \n",
    "    sec_max_ele = not_dup_arr[0] \n",
    "    for ele in not_dup_arr:\n",
    "        if ele != max_ele and ele > sec_max_ele:\n",
    "            sec_max_ele= ele\n",
    "    print(sec_max_ele)\n"
   ]
  },
  {
   "cell_type": "markdown",
   "id": "e5e0d1f5",
   "metadata": {},
   "source": [
    "Nested Lists"
   ]
  },
  {
   "cell_type": "code",
   "execution_count": null,
   "id": "147856a2",
   "metadata": {},
   "outputs": [],
   "source": [
    "if __name__ == '__main__':\n",
    "    n=int(input())\n",
    "    res=[]\n",
    "    grade=[]\n",
    "    for i in range(n):\n",
    "        name=input()\n",
    "        score=float(input())\n",
    "        res.append([name,score])\n",
    "        grade.append(score)  \n",
    "        \n",
    "    grade=sorted(set(grade)) \n",
    "    m=grade[1]\n",
    "\n",
    "    name=[]\n",
    "    for val in res:\n",
    "        if m==val[1]:\n",
    "            name.append(val[0])\n",
    "   \n",
    "    name.sort()\n",
    "\n",
    "    for nm in name:\n",
    "        print(nm)"
   ]
  },
  {
   "cell_type": "markdown",
   "id": "c1c5b889",
   "metadata": {},
   "source": [
    "Finding the percentage"
   ]
  },
  {
   "cell_type": "code",
   "execution_count": null,
   "id": "f3e6afd0",
   "metadata": {},
   "outputs": [],
   "source": [
    "if __name__ == '__main__':\n",
    "    n = int(input())\n",
    "    student_marks = {}\n",
    "    for _ in range(n):\n",
    "        name, *line = input().split()\n",
    "        scores = list(map(float, line))\n",
    "        student_marks[name] = scores\n",
    "    query_name = input()\n",
    "    \n",
    "    marks = student_marks[query_name]\n",
    "    total = 0\n",
    "    count = 0\n",
    "    for mark in marks:\n",
    "        total += float(mark)\n",
    "        count += 1\n",
    "    average = total / count\n",
    "\n",
    "    print('%.2f' % average)"
   ]
  },
  {
   "cell_type": "markdown",
   "id": "772f63e2",
   "metadata": {},
   "source": [
    "Tuples"
   ]
  },
  {
   "cell_type": "code",
   "execution_count": null,
   "id": "1081613e",
   "metadata": {},
   "outputs": [],
   "source": [
    "n = int(input())\n",
    "integer_list = map(int, input().split())\n",
    "\n",
    "t = tuple(integer_list)\n",
    "print(hash(t))"
   ]
  },
  {
   "cell_type": "markdown",
   "id": "5f923db8",
   "metadata": {},
   "source": [
    "Lists"
   ]
  },
  {
   "cell_type": "code",
   "execution_count": null,
   "id": "4ff544fc",
   "metadata": {},
   "outputs": [],
   "source": [
    "if __name__ == '__main__':\n",
    "    N = int(input())\n",
    "    \n",
    "    list_=[]\n",
    "    for i in range(1,N+1):\n",
    "        st=input().split()\n",
    "        if(len(st)==3):\n",
    "            s=st[0]\n",
    "            index=int(st[1])\n",
    "            val=int(st[2])\n",
    "        elif(len(st)==2):\n",
    "            s=st[0]\n",
    "            val=int(st[1])\n",
    "        else:\n",
    "            s=st[0]\n",
    "        if(s==\"insert\"):\n",
    "             list_.insert(index,val)\n",
    "        elif(s==\"remove\"):\n",
    "             list_.remove(val)\n",
    "        elif(s==\"append\"):\n",
    "             list_.append(val) \n",
    "        elif(s==\"print\"):\n",
    "            print(list_)\n",
    "        elif(s==\"pop\"):\n",
    "            if(len(list_)>0):\n",
    "                list_.pop()\n",
    "        elif(s==\"reverse\"):\n",
    "            list_.reverse()\n",
    "        elif(s==\"sort\"):\n",
    "            list_.sort()"
   ]
  },
  {
   "cell_type": "markdown",
   "id": "34259b28",
   "metadata": {},
   "source": [
    "Introduction to Sets"
   ]
  },
  {
   "cell_type": "code",
   "execution_count": null,
   "id": "95178e7c",
   "metadata": {},
   "outputs": [],
   "source": [
    "def average(array):\n",
    "    ans = sum(set(array))/len(set(array))\n",
    "    return ans\n",
    "\n",
    "if __name__ == '__main__':\n",
    "    n = int(input())\n",
    "    arr = list(map(int, input().split()))\n",
    "    result = average(arr)\n",
    "    print(result)"
   ]
  },
  {
   "cell_type": "markdown",
   "id": "dc95e0f2",
   "metadata": {},
   "source": [
    "No Idea!"
   ]
  },
  {
   "cell_type": "code",
   "execution_count": null,
   "id": "ea969c08",
   "metadata": {},
   "outputs": [],
   "source": [
    "\n",
    "n, m = map(int, input().split())\n",
    "array = list(map(int, input().split()))\n",
    "A = set(map(int, input().split()))\n",
    "B = set(map(int, input().split()))\n",
    "\n",
    "happiness = 0\n",
    "\n",
    "for i in array:\n",
    "    if i in A:\n",
    "        happiness += 1\n",
    "    elif i in B:\n",
    "        happiness -= 1\n",
    "\n",
    "print(happiness)"
   ]
  },
  {
   "cell_type": "markdown",
   "id": "11687bfe",
   "metadata": {},
   "source": [
    "Symmetric Difference"
   ]
  },
  {
   "cell_type": "code",
   "execution_count": null,
   "id": "73d8a654",
   "metadata": {},
   "outputs": [],
   "source": [
    "# Enter your code here. Read input from STDIN. Print output to STDOUT\n",
    "\n",
    "a = int(input())\n",
    "\n",
    "M = set(map(int, input().split()))\n",
    "\n",
    "b = int(input())\n",
    "\n",
    "N = set(map(int, input().split()))\n",
    "\n",
    "c = M.difference(N)\n",
    "d = N.difference(M)\n",
    "\n",
    "e = c.union(d)\n",
    "\n",
    "RESULT = list(e)\n",
    "RESULT.sort()\n",
    "\n",
    "for i in range(len(RESULT)):\n",
    "    print(RESULT[i])"
   ]
  },
  {
   "cell_type": "markdown",
   "id": "8f727415",
   "metadata": {},
   "source": [
    "Set .add()"
   ]
  },
  {
   "cell_type": "code",
   "execution_count": null,
   "id": "006a6d75",
   "metadata": {},
   "outputs": [],
   "source": [
    "# Enter your code here. Read input from STDIN. Print output to STDOUT\n",
    "\n",
    "N = int(input())\n",
    "\n",
    "countries = set()\n",
    "\n",
    "for i in range(N):\n",
    "    countries.add(input())\n",
    "\n",
    "print(len(countries))"
   ]
  },
  {
   "cell_type": "markdown",
   "id": "3c8d9046",
   "metadata": {},
   "source": [
    "Set .discard(), .remove() & .pop()"
   ]
  },
  {
   "cell_type": "code",
   "execution_count": null,
   "id": "c32a7c99",
   "metadata": {},
   "outputs": [],
   "source": [
    "n = int(input())\n",
    "s = set(map(int, input().split()))\n",
    "N = int(input())\n",
    "\n",
    "for i in range(N):\n",
    "    command = input().split()\n",
    "    \n",
    "    if command[0] == 'pop':\n",
    "        s.pop()\n",
    "    elif command[0] == 'remove':\n",
    "        s.remove(int(command[1]))\n",
    "    elif command[0] == 'discard':\n",
    "        s.discard(int(command[1]))\n",
    "\n",
    "print(sum(s))"
   ]
  },
  {
   "cell_type": "markdown",
   "id": "8d26d8fa",
   "metadata": {},
   "source": [
    "Set .union() Operation"
   ]
  },
  {
   "cell_type": "code",
   "execution_count": null,
   "id": "d3f25391",
   "metadata": {},
   "outputs": [],
   "source": [
    "# Enter your code here. Read input from STDIN. Print output to STDOUT\n",
    "N1 = int(input())\n",
    "storage1 = set(input().split())\n",
    "\n",
    "N2 = int(input())\n",
    "storage2 = set(input().split())\n",
    "\n",
    "storage3 = storage1 | storage2\n",
    "print(len(storage3))"
   ]
  },
  {
   "cell_type": "markdown",
   "id": "ee1165e7",
   "metadata": {},
   "source": [
    "Set .intersection() Operation"
   ]
  },
  {
   "cell_type": "code",
   "execution_count": null,
   "id": "11ef5e79",
   "metadata": {},
   "outputs": [],
   "source": [
    "n1 = int(input())\n",
    "s1 = set(map(int, input().split()))\n",
    "\n",
    "n2 = int(input())\n",
    "s2 = set(map(int, input().split()))\n",
    "\n",
    "common_subs = s1.intersection(s2)\n",
    "\n",
    "print(len(common_subs))"
   ]
  },
  {
   "cell_type": "markdown",
   "id": "8f1b0c31",
   "metadata": {},
   "source": [
    "Set .difference() Operation"
   ]
  },
  {
   "cell_type": "code",
   "execution_count": null,
   "id": "71034f13",
   "metadata": {},
   "outputs": [],
   "source": [
    "# Enter your code here. Read input from STDIN. Print output to STDOUT\n",
    "\n",
    "n1 = int(input())\n",
    "s1 = set(map(int, input().split()))\n",
    "\n",
    "n2 = int(input())\n",
    "s2 = set(map(int, input().split()))\n",
    "\n",
    "english_only = s1.difference(s2)\n",
    "\n",
    "print(len(english_only))"
   ]
  },
  {
   "cell_type": "markdown",
   "id": "450ee62b",
   "metadata": {},
   "source": [
    "Set .symmetric_difference() Operation"
   ]
  },
  {
   "cell_type": "code",
   "execution_count": null,
   "id": "667b9dc4",
   "metadata": {},
   "outputs": [],
   "source": [
    "n1 = int(input())\n",
    "s1 = set(map(int, input().split()))\n",
    "\n",
    "n2 = int(input())\n",
    "s2 = set(map(int, input().split()))\n",
    "\n",
    "subscribed_only_one = s1.symmetric_difference(s2)\n",
    "\n",
    "print(len(subscribed_only_one))"
   ]
  },
  {
   "cell_type": "markdown",
   "id": "4fbfd0cb",
   "metadata": {},
   "source": [
    "Set Mutations"
   ]
  },
  {
   "cell_type": "code",
   "execution_count": null,
   "id": "2a606e39",
   "metadata": {},
   "outputs": [],
   "source": [
    "# Enter your code here. Read input from STDIN. Print output to STDOUT\n",
    "\n",
    "n = int(input())\n",
    "A = set(map(int, input().split()))\n",
    "\n",
    "for i in range(int(input())):\n",
    "    command, n_set = input().split()\n",
    "    B = set(map(int, input().split()))\n",
    "    \n",
    "    if command == 'intersection_update':\n",
    "        A.intersection_update(B)\n",
    "    elif command == 'update':\n",
    "        A.update(B)\n",
    "    elif command == 'symmetric_difference_update':\n",
    "        A.symmetric_difference_update(B)\n",
    "    elif command == 'difference_update':\n",
    "        A.difference_update(B)\n",
    "\n",
    "print(sum(A))"
   ]
  },
  {
   "cell_type": "markdown",
   "id": "6785b66e",
   "metadata": {},
   "source": [
    "The Captain's Room"
   ]
  },
  {
   "cell_type": "code",
   "execution_count": null,
   "id": "79902939",
   "metadata": {},
   "outputs": [],
   "source": [
    "k = int(input())\n",
    "room_numbers = list(map(int, input().split()))\n",
    "\n",
    "all_tourists = set()\n",
    "unique_tourists = set()\n",
    "\n",
    "for room in room_numbers:\n",
    "    if room in all_tourists:\n",
    "        unique_tourists.discard(room)\n",
    "    else:\n",
    "        all_tourists.add(room)\n",
    "        unique_tourists.add(room)\n",
    "\n",
    "print(unique_tourists.pop())"
   ]
  },
  {
   "cell_type": "markdown",
   "id": "6cc67804",
   "metadata": {},
   "source": [
    "Check Subset"
   ]
  },
  {
   "cell_type": "code",
   "execution_count": null,
   "id": "4ff56814",
   "metadata": {},
   "outputs": [],
   "source": [
    "T = int(input())\n",
    "\n",
    "for i in range(T):\n",
    "    input()\n",
    "    A = set(map(int, input().split()))\n",
    "    input()\n",
    "    B = set(map(int, input().split()))\n",
    "    \n",
    "    print(A.issubset(B))"
   ]
  },
  {
   "cell_type": "markdown",
   "id": "5884550b",
   "metadata": {},
   "source": [
    "Check Strict Superset"
   ]
  },
  {
   "cell_type": "code",
   "execution_count": null,
   "id": "f636f852",
   "metadata": {},
   "outputs": [],
   "source": [
    "# Enter your code here. Read input from STDIN. Print output to STDOUT\n",
    "\n",
    "A = set(map(int, input().split()))\n",
    "n = int(input())\n",
    "\n",
    "is_strict_superset = True\n",
    "\n",
    "for i in range(n):\n",
    "    set_i = set(map(int, input().split()))\n",
    "    \n",
    "    if not A.issuperset(set_i):\n",
    "        is_strict_superset = False\n",
    "        break\n",
    "\n",
    "print(is_strict_superset)"
   ]
  }
 ],
 "metadata": {
  "kernelspec": {
   "display_name": "Python 3 (ipykernel)",
   "language": "python",
   "name": "python3"
  },
  "language_info": {
   "codemirror_mode": {
    "name": "ipython",
    "version": 3
   },
   "file_extension": ".py",
   "mimetype": "text/x-python",
   "name": "python",
   "nbconvert_exporter": "python",
   "pygments_lexer": "ipython3",
   "version": "3.9.13"
  }
 },
 "nbformat": 4,
 "nbformat_minor": 5
}
