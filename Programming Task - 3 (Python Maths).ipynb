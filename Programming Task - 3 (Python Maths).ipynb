{
 "cells": [
  {
   "cell_type": "markdown",
   "id": "baca2c26",
   "metadata": {},
   "source": [
    "Polar Coordinates"
   ]
  },
  {
   "cell_type": "code",
   "execution_count": null,
   "id": "30b4080b",
   "metadata": {},
   "outputs": [],
   "source": [
    "import cmath\n",
    "z = complex(input().strip())\n",
    "\n",
    "r, phi = cmath.polar(z)\n",
    "\n",
    "print(r)\n",
    "print(phi)"
   ]
  },
  {
   "cell_type": "markdown",
   "id": "d4a94086",
   "metadata": {},
   "source": [
    "Find Angle MBC"
   ]
  },
  {
   "cell_type": "code",
   "execution_count": null,
   "id": "1aa5d0b5",
   "metadata": {},
   "outputs": [],
   "source": [
    "import math\n",
    "\n",
    "AB = int(input())\n",
    "BC = int(input())\n",
    "\n",
    "theta = round(math.degrees(math.atan2(AB, BC)))\n",
    "\n",
    "print(str(theta) + chr(176) + \"\")"
   ]
  },
  {
   "cell_type": "markdown",
   "id": "a4353a93",
   "metadata": {},
   "source": [
    "Triangle Quest 2"
   ]
  },
  {
   "cell_type": "code",
   "execution_count": null,
   "id": "9c26d70a",
   "metadata": {},
   "outputs": [],
   "source": [
    "for i in range(1,int(input())+1): \n",
    "    print((10 ** i - 1) ** 2 // 81)"
   ]
  },
  {
   "cell_type": "markdown",
   "id": "00cfea9f",
   "metadata": {},
   "source": [
    "Mod Divmod"
   ]
  },
  {
   "cell_type": "code",
   "execution_count": null,
   "id": "3a7f7c47",
   "metadata": {},
   "outputs": [],
   "source": [
    "a = int(input())\n",
    "b = int(input())\n",
    "\n",
    "print(a//b)\n",
    "print(a%b)\n",
    "print(divmod(a,b))"
   ]
  },
  {
   "cell_type": "markdown",
   "id": "6ecc6308",
   "metadata": {},
   "source": [
    "Power - Mod Power"
   ]
  },
  {
   "cell_type": "code",
   "execution_count": null,
   "id": "e0bf0ccb",
   "metadata": {},
   "outputs": [],
   "source": [
    "a = int(input())\n",
    "b = int(input())\n",
    "m = int(input())\n",
    "\n",
    "print(pow(a,b))\n",
    "print(pow(a,b,m))"
   ]
  },
  {
   "cell_type": "markdown",
   "id": "33bd45bd",
   "metadata": {},
   "source": [
    "Integers Come In All Sizes"
   ]
  },
  {
   "cell_type": "code",
   "execution_count": null,
   "id": "e620de2d",
   "metadata": {},
   "outputs": [],
   "source": [
    "a = int(input())\n",
    "b = int(input())\n",
    "c = int(input())\n",
    "d = int(input())\n",
    "\n",
    "ans = a**b + c**d\n",
    "\n",
    "print(ans)"
   ]
  },
  {
   "cell_type": "markdown",
   "id": "a12a4d7b",
   "metadata": {},
   "source": [
    "Triangle Quest"
   ]
  },
  {
   "cell_type": "code",
   "execution_count": null,
   "id": "0fb1c33e",
   "metadata": {},
   "outputs": [],
   "source": [
    "for i in range(1,int(input())):\n",
    "    print((10**i // 9) * i)"
   ]
  }
 ],
 "metadata": {
  "kernelspec": {
   "display_name": "Python 3 (ipykernel)",
   "language": "python",
   "name": "python3"
  },
  "language_info": {
   "codemirror_mode": {
    "name": "ipython",
    "version": 3
   },
   "file_extension": ".py",
   "mimetype": "text/x-python",
   "name": "python",
   "nbconvert_exporter": "python",
   "pygments_lexer": "ipython3",
   "version": "3.9.13"
  }
 },
 "nbformat": 4,
 "nbformat_minor": 5
}
